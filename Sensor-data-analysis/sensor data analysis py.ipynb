{
 "cells": [
  {
   "cell_type": "markdown",
   "metadata": {},
   "source": [
    "### Sensor data cleaning and visualization using plotly"
   ]
  },
  {
   "cell_type": "markdown",
   "metadata": {},
   "source": [
    "This notebook contains codes on how to read data properly, make some cleaning and visualize using the plotly package.\n",
    "\n",
    "\n",
    "First, I will start by importing neccesary packages."
   ]
  },
  {
   "cell_type": "code",
   "execution_count": 157,
   "metadata": {},
   "outputs": [],
   "source": [
    "import pandas as pd\n",
    "import numpy as np\n",
    "import matplotlib.pyplot as plt"
   ]
  },
  {
   "cell_type": "code",
   "execution_count": 158,
   "metadata": {},
   "outputs": [],
   "source": [
    "%matplotlib inline"
   ]
  },
  {
   "cell_type": "markdown",
   "metadata": {},
   "source": [
    "Now, I am going read the data from local disk using pandas `read_table() ` function. The data contains sensor reading taken every 1 min. The data contains more than 300k rows, and I am intersted to read only the rows after 250k hence I can do that using the `skiprows ` option. "
   ]
  },
  {
   "cell_type": "code",
   "execution_count": 165,
   "metadata": {},
   "outputs": [
    {
     "data": {
      "text/plain": [
       "(57078, 7)"
      ]
     },
     "execution_count": 165,
     "metadata": {},
     "output_type": "execute_result"
    }
   ],
   "source": [
    "sensor_df = pd.read_table('GS Sensor Data 093018.txt', squeeze=True, header=0, skiprows=250000,\n",
    "                           parse_dates=[0], infer_datetime_format=True, low_memory=False, names=['Time','Stage','DO', 'pH','NH4','NO3','MFC'])\n",
    "dim = sensor_df.shape\n",
    "dim"
   ]
  },
  {
   "cell_type": "code",
   "execution_count": 166,
   "metadata": {},
   "outputs": [
    {
     "data": {
      "text/html": [
       "<div>\n",
       "<style scoped>\n",
       "    .dataframe tbody tr th:only-of-type {\n",
       "        vertical-align: middle;\n",
       "    }\n",
       "\n",
       "    .dataframe tbody tr th {\n",
       "        vertical-align: top;\n",
       "    }\n",
       "\n",
       "    .dataframe thead th {\n",
       "        text-align: right;\n",
       "    }\n",
       "</style>\n",
       "<table border=\"1\" class=\"dataframe\">\n",
       "  <thead>\n",
       "    <tr style=\"text-align: right;\">\n",
       "      <th></th>\n",
       "      <th>Time</th>\n",
       "      <th>Stage</th>\n",
       "      <th>DO</th>\n",
       "      <th>pH</th>\n",
       "      <th>NH4</th>\n",
       "      <th>NO3</th>\n",
       "      <th>MFC</th>\n",
       "    </tr>\n",
       "  </thead>\n",
       "  <tbody>\n",
       "    <tr>\n",
       "      <th>0</th>\n",
       "      <td>3/20/2019 9:47:38 PM</td>\n",
       "      <td>Anaerobic</td>\n",
       "      <td>0.13</td>\n",
       "      <td>8.09</td>\n",
       "      <td>29.25</td>\n",
       "      <td>1.02</td>\n",
       "      <td>0.00</td>\n",
       "    </tr>\n",
       "    <tr>\n",
       "      <th>1</th>\n",
       "      <td>3/20/2019 9:48:38 PM</td>\n",
       "      <td>Anaerobic</td>\n",
       "      <td>0.13</td>\n",
       "      <td>8.06</td>\n",
       "      <td>29.50</td>\n",
       "      <td>1.02</td>\n",
       "      <td>0.00</td>\n",
       "    </tr>\n",
       "    <tr>\n",
       "      <th>2</th>\n",
       "      <td>3/20/2019 9:49:38 PM</td>\n",
       "      <td>Anaerobic</td>\n",
       "      <td>0.13</td>\n",
       "      <td>8.09</td>\n",
       "      <td>29.20</td>\n",
       "      <td>1.02</td>\n",
       "      <td>0.00</td>\n",
       "    </tr>\n",
       "    <tr>\n",
       "      <th>3</th>\n",
       "      <td>3/20/2019 9:50:38 PM</td>\n",
       "      <td>Anaerobic</td>\n",
       "      <td>0.13</td>\n",
       "      <td>8.12</td>\n",
       "      <td>29.15</td>\n",
       "      <td>1.02</td>\n",
       "      <td>0.00</td>\n",
       "    </tr>\n",
       "    <tr>\n",
       "      <th>4</th>\n",
       "      <td>3/20/2019 9:51:38 PM</td>\n",
       "      <td>Anaerobic</td>\n",
       "      <td>0.13</td>\n",
       "      <td>8.13</td>\n",
       "      <td>29.10</td>\n",
       "      <td>1.07</td>\n",
       "      <td>0.00</td>\n",
       "    </tr>\n",
       "  </tbody>\n",
       "</table>\n",
       "</div>"
      ],
      "text/plain": [
       "                   Time      Stage     DO     pH    NH4    NO3    MFC\n",
       "0  3/20/2019 9:47:38 PM  Anaerobic   0.13   8.09  29.25   1.02   0.00\n",
       "1  3/20/2019 9:48:38 PM  Anaerobic   0.13   8.06  29.50   1.02   0.00\n",
       "2  3/20/2019 9:49:38 PM  Anaerobic   0.13   8.09  29.20   1.02   0.00\n",
       "3  3/20/2019 9:50:38 PM  Anaerobic   0.13   8.12  29.15   1.02   0.00\n",
       "4  3/20/2019 9:51:38 PM  Anaerobic   0.13   8.13  29.10   1.07   0.00"
      ]
     },
     "execution_count": 166,
     "metadata": {},
     "output_type": "execute_result"
    }
   ],
   "source": [
    "sensor_df.head()"
   ]
  },
  {
   "cell_type": "markdown",
   "metadata": {},
   "source": [
    "Let us check the data types "
   ]
  },
  {
   "cell_type": "code",
   "execution_count": 167,
   "metadata": {},
   "outputs": [
    {
     "data": {
      "text/plain": [
       "Time     object\n",
       "Stage    object\n",
       "DO       object\n",
       "pH       object\n",
       "NH4      object\n",
       "NO3      object\n",
       "MFC      object\n",
       "dtype: object"
      ]
     },
     "execution_count": 167,
     "metadata": {},
     "output_type": "execute_result"
    }
   ],
   "source": [
    "sensor_df.dtypes"
   ]
  },
  {
   "cell_type": "markdown",
   "metadata": {},
   "source": [
    "As we can see the data types are not properly inferred, so we need to change the data types manually."
   ]
  },
  {
   "cell_type": "markdown",
   "metadata": {},
   "source": [
    "#### Covert to datatime format"
   ]
  },
  {
   "cell_type": "markdown",
   "metadata": {},
   "source": [
    "Here I will use the pandas `to_datetime()' function to convert the data column to a proper datatime format so that the data can be used as a timeseries. We can specify the date format, but the function can automatically infer the format if we set the infer_datetime_format to True."
   ]
  },
  {
   "cell_type": "code",
   "execution_count": 168,
   "metadata": {},
   "outputs": [],
   "source": [
    "tm = sensor_df.loc[:,'Time']\n",
    "sensor_df.loc[:,'Time'] = pd.to_datetime(tm, infer_datetime_format=True,\n",
    "                                          errors='coerce')"
   ]
  },
  {
   "cell_type": "markdown",
   "metadata": {},
   "source": [
    "#### Convert to numeric values"
   ]
  },
  {
   "cell_type": "markdown",
   "metadata": {},
   "source": [
    "The columns from 3 to 7 in the the dataframe are numeric, hence we can convert it to numeric and coerce any errors it encouters as shown below."
   ]
  },
  {
   "cell_type": "code",
   "execution_count": 169,
   "metadata": {},
   "outputs": [],
   "source": [
    "df_2_7 = sensor_df.iloc[:,2:7]\n",
    "sensor_df.iloc[:,2:7] = df_2_7.apply(pd.to_numeric, axis=1, errors='coerce')"
   ]
  },
  {
   "cell_type": "markdown",
   "metadata": {},
   "source": [
    "#### Convert to string format"
   ]
  },
  {
   "cell_type": "markdown",
   "metadata": {},
   "source": [
    "The second column contain the string data tpye and can be converted as shown below."
   ]
  },
  {
   "cell_type": "code",
   "execution_count": 170,
   "metadata": {},
   "outputs": [],
   "source": [
    "stage = sensor_df['Stage']\n",
    "sensor_df['Stage'] = stage.astype(str)"
   ]
  },
  {
   "cell_type": "markdown",
   "metadata": {},
   "source": [
    "Let us set the time column as index."
   ]
  },
  {
   "cell_type": "code",
   "execution_count": 171,
   "metadata": {},
   "outputs": [],
   "source": [
    "sensor_df.set_index('Time',inplace=True)"
   ]
  },
  {
   "cell_type": "code",
   "execution_count": 172,
   "metadata": {},
   "outputs": [
    {
     "data": {
      "text/html": [
       "<div>\n",
       "<style scoped>\n",
       "    .dataframe tbody tr th:only-of-type {\n",
       "        vertical-align: middle;\n",
       "    }\n",
       "\n",
       "    .dataframe tbody tr th {\n",
       "        vertical-align: top;\n",
       "    }\n",
       "\n",
       "    .dataframe thead th {\n",
       "        text-align: right;\n",
       "    }\n",
       "</style>\n",
       "<table border=\"1\" class=\"dataframe\">\n",
       "  <thead>\n",
       "    <tr style=\"text-align: right;\">\n",
       "      <th></th>\n",
       "      <th>Stage</th>\n",
       "      <th>DO</th>\n",
       "      <th>pH</th>\n",
       "      <th>NH4</th>\n",
       "      <th>NO3</th>\n",
       "      <th>MFC</th>\n",
       "    </tr>\n",
       "    <tr>\n",
       "      <th>Time</th>\n",
       "      <th></th>\n",
       "      <th></th>\n",
       "      <th></th>\n",
       "      <th></th>\n",
       "      <th></th>\n",
       "      <th></th>\n",
       "    </tr>\n",
       "  </thead>\n",
       "  <tbody>\n",
       "    <tr>\n",
       "      <th>2019-04-30 19:55:48</th>\n",
       "      <td>Anaerobic</td>\n",
       "      <td>0.0</td>\n",
       "      <td>7.51</td>\n",
       "      <td>0.16</td>\n",
       "      <td>0.25</td>\n",
       "      <td>0.0</td>\n",
       "    </tr>\n",
       "    <tr>\n",
       "      <th>2019-04-30 19:56:48</th>\n",
       "      <td>Anaerobic</td>\n",
       "      <td>0.0</td>\n",
       "      <td>7.56</td>\n",
       "      <td>0.16</td>\n",
       "      <td>0.25</td>\n",
       "      <td>0.0</td>\n",
       "    </tr>\n",
       "    <tr>\n",
       "      <th>2019-04-30 19:57:48</th>\n",
       "      <td>Anaerobic</td>\n",
       "      <td>0.0</td>\n",
       "      <td>7.64</td>\n",
       "      <td>0.11</td>\n",
       "      <td>0.25</td>\n",
       "      <td>0.0</td>\n",
       "    </tr>\n",
       "    <tr>\n",
       "      <th>2019-04-30 19:58:48</th>\n",
       "      <td>Anaerobic</td>\n",
       "      <td>0.0</td>\n",
       "      <td>7.57</td>\n",
       "      <td>0.11</td>\n",
       "      <td>0.25</td>\n",
       "      <td>0.0</td>\n",
       "    </tr>\n",
       "    <tr>\n",
       "      <th>2019-04-30 19:59:48</th>\n",
       "      <td>Anaerobic</td>\n",
       "      <td>0.0</td>\n",
       "      <td>7.66</td>\n",
       "      <td>0.16</td>\n",
       "      <td>0.25</td>\n",
       "      <td>0.0</td>\n",
       "    </tr>\n",
       "  </tbody>\n",
       "</table>\n",
       "</div>"
      ],
      "text/plain": [
       "                         Stage   DO    pH   NH4   NO3  MFC\n",
       "Time                                                      \n",
       "2019-04-30 19:55:48  Anaerobic  0.0  7.51  0.16  0.25  0.0\n",
       "2019-04-30 19:56:48  Anaerobic  0.0  7.56  0.16  0.25  0.0\n",
       "2019-04-30 19:57:48  Anaerobic  0.0  7.64  0.11  0.25  0.0\n",
       "2019-04-30 19:58:48  Anaerobic  0.0  7.57  0.11  0.25  0.0\n",
       "2019-04-30 19:59:48  Anaerobic  0.0  7.66  0.16  0.25  0.0"
      ]
     },
     "execution_count": 172,
     "metadata": {},
     "output_type": "execute_result"
    }
   ],
   "source": [
    "sensor_df.tail()"
   ]
  },
  {
   "cell_type": "markdown",
   "metadata": {},
   "source": [
    "### Visualize using plotly"
   ]
  },
  {
   "cell_type": "markdown",
   "metadata": {},
   "source": [
    "Now, we can use the clean data and produce a ploty using `plotly` package."
   ]
  },
  {
   "cell_type": "code",
   "execution_count": 137,
   "metadata": {},
   "outputs": [
    {
     "data": {
      "text/html": [
       "\n",
       "\n",
       "\n",
       "\n",
       "\n",
       "\n",
       "  <div class=\"bk-root\" id=\"d34f9a0e-3a93-4f1e-8979-318c8830fea0\"></div>\n"
      ]
     },
     "metadata": {},
     "output_type": "display_data"
    },
    {
     "data": {
      "application/javascript": [
       "(function(root) {\n",
       "  function embed_document(root) {\n",
       "    \n",
       "  var docs_json = {\"f53b5138-d5bd-4b4c-ac17-3e49f8ab8afe\":{\"roots\":{\"references\":[{\"attributes\":{\"line_color\":\"#1f77b4\",\"line_width\":2,\"x\":{\"field\":\"x\"},\"y\":{\"field\":\"y\"}},\"id\":\"a65ddc87-42b1-4e91-b6c2-bb76e3d4df6e\",\"type\":\"Line\"},{\"attributes\":{\"callback\":null},\"id\":\"bc8e2d6a-95af-453d-9b84-61c2c209ecc3\",\"type\":\"DataRange1d\"},{\"attributes\":{\"axis_label\":\"time\",\"formatter\":{\"id\":\"0358bf14-0c80-4551-9a69-35aea85ce37b\",\"type\":\"DatetimeTickFormatter\"},\"plot\":{\"id\":\"35f71cca-9c6d-4743-91b8-4e747b55c979\",\"subtype\":\"Figure\",\"type\":\"Plot\"},\"ticker\":{\"id\":\"8193f9b1-0ac3-4aec-a3bf-6c3052e0a902\",\"type\":\"DatetimeTicker\"}},\"id\":\"ff0874eb-c39c-47bf-99f7-72c3de92cf6f\",\"type\":\"DatetimeAxis\"},{\"attributes\":{\"data_source\":{\"id\":\"2bd3df80-a778-414e-ad72-87adc356b542\",\"type\":\"ColumnDataSource\"},\"glyph\":{\"id\":\"bf43f47b-938c-401d-9fb4-17e18786ea0b\",\"type\":\"Line\"},\"hover_glyph\":null,\"muted_glyph\":null,\"nonselection_glyph\":{\"id\":\"645a2ba0-c6a8-4a2b-a867-56634bdc619d\",\"type\":\"Line\"},\"selection_glyph\":null,\"view\":{\"id\":\"8397b9d8-e4a0-412f-bc41-b9848e1ca964\",\"type\":\"CDSView\"},\"y_range_name\":\"ph\"},\"id\":\"9b746f85-6497-48e6-afab-13e8ffaa8efa\",\"type\":\"GlyphRenderer\"},{\"attributes\":{},\"id\":\"85d955a0-4f4c-40f8-bf5b-580111207ce1\",\"type\":\"SaveTool\"},{\"attributes\":{},\"id\":\"b99bb0a0-8016-4126-a6e9-9530b9f05257\",\"type\":\"UnionRenderers\"},{\"attributes\":{\"label\":{\"value\":\"Air\"},\"renderers\":[{\"id\":\"313da7f6-c7a8-4045-916a-7c56e6111832\",\"type\":\"GlyphRenderer\"}]},\"id\":\"3b2a19ee-65a1-4760-ab08-bab849de117a\",\"type\":\"LegendItem\"},{\"attributes\":{\"line_color\":\"green\",\"line_width\":2,\"x\":{\"field\":\"x\"},\"y\":{\"field\":\"y\"}},\"id\":\"bf43f47b-938c-401d-9fb4-17e18786ea0b\",\"type\":\"Line\"},{\"attributes\":{\"days\":[1,2,3,4,5,6,7,8,9,10,11,12,13,14,15,16,17,18,19,20,21,22,23,24,25,26,27,28,29,30,31]},\"id\":\"1d827ddb-8bd5-4e66-8844-5e80dd462c3c\",\"type\":\"DaysTicker\"},{\"attributes\":{\"bottom_units\":\"screen\",\"fill_alpha\":{\"value\":0.5},\"fill_color\":{\"value\":\"lightgrey\"},\"left_units\":\"screen\",\"level\":\"overlay\",\"line_alpha\":{\"value\":1.0},\"line_color\":{\"value\":\"black\"},\"line_dash\":[4,4],\"line_width\":{\"value\":2},\"plot\":null,\"render_mode\":\"css\",\"right_units\":\"screen\",\"top_units\":\"screen\"},\"id\":\"66f183c1-17ae-43ab-b90f-1d2c755bb4d1\",\"type\":\"BoxAnnotation\"},{\"attributes\":{},\"id\":\"8980e2fb-b3e9-4869-b811-2b6eb4a25a01\",\"type\":\"ResetTool\"},{\"attributes\":{\"callback\":null,\"data\":{\"x\":{\"__ndarray__\":\"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\",\"dtype\":\"float64\",\"shape\":[800]},\"y\":{\"__ndarray__\":\"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\",\"dtype\":\"float64\",\"shape\":[800]}},\"selected\":{\"id\":\"5406ded4-4440-445a-95b3-dc6b0dadcfae\",\"type\":\"Selection\"},\"selection_policy\":{\"id\":\"f9453bb3-478b-4eb7-a2fd-db7515cb2ce6\",\"type\":\"UnionRenderers\"}},\"id\":\"2bd3df80-a778-414e-ad72-87adc356b542\",\"type\":\"ColumnDataSource\"},{\"attributes\":{\"data_source\":{\"id\":\"b82015d6-94f2-426d-a216-55be910c999f\",\"type\":\"ColumnDataSource\"},\"glyph\":{\"id\":\"a65ddc87-42b1-4e91-b6c2-bb76e3d4df6e\",\"type\":\"Line\"},\"hover_glyph\":null,\"muted_glyph\":null,\"nonselection_glyph\":{\"id\":\"7e68b00b-f151-4a51-994c-220021d5002b\",\"type\":\"Line\"},\"selection_glyph\":null,\"view\":{\"id\":\"e1e25c35-62d4-4541-99d9-697b76b7f6ee\",\"type\":\"CDSView\"}},\"id\":\"fe0587a6-22ef-40fa-bed2-1bbd1909b563\",\"type\":\"GlyphRenderer\"},{\"attributes\":{\"below\":[{\"id\":\"ff0874eb-c39c-47bf-99f7-72c3de92cf6f\",\"type\":\"DatetimeAxis\"}],\"extra_y_ranges\":{\"ph\":{\"id\":\"817d81d3-f4ab-4f3c-a451-926daca5bf93\",\"type\":\"Range1d\"}},\"left\":[{\"id\":\"9e32453f-7ee4-4adb-a2f2-f7fd037eecc7\",\"type\":\"LinearAxis\"}],\"plot_height\":450,\"plot_width\":900,\"renderers\":[{\"id\":\"ff0874eb-c39c-47bf-99f7-72c3de92cf6f\",\"type\":\"DatetimeAxis\"},{\"id\":\"7b124ffa-4e2e-4dce-aa16-49faef183879\",\"type\":\"Grid\"},{\"id\":\"9e32453f-7ee4-4adb-a2f2-f7fd037eecc7\",\"type\":\"LinearAxis\"},{\"id\":\"9f9f922e-880b-4e71-bfae-fb5cba93cb79\",\"type\":\"Grid\"},{\"id\":\"66f183c1-17ae-43ab-b90f-1d2c755bb4d1\",\"type\":\"BoxAnnotation\"},{\"id\":\"580109a9-d6eb-441e-a906-c8809d5df648\",\"type\":\"LinearAxis\"},{\"id\":\"b334a178-30d5-4db3-b13b-07c7670542d1\",\"type\":\"Legend\"},{\"id\":\"fe0587a6-22ef-40fa-bed2-1bbd1909b563\",\"type\":\"GlyphRenderer\"},{\"id\":\"313da7f6-c7a8-4045-916a-7c56e6111832\",\"type\":\"GlyphRenderer\"},{\"id\":\"9b746f85-6497-48e6-afab-13e8ffaa8efa\",\"type\":\"GlyphRenderer\"}],\"right\":[{\"id\":\"580109a9-d6eb-441e-a906-c8809d5df648\",\"type\":\"LinearAxis\"}],\"title\":{\"id\":\"208ef87a-b757-4508-be9c-6d12e1bab09a\",\"type\":\"Title\"},\"toolbar\":{\"id\":\"b74ac3a1-68bc-40b0-956c-d0077576ef6a\",\"type\":\"Toolbar\"},\"x_range\":{\"id\":\"bc8e2d6a-95af-453d-9b84-61c2c209ecc3\",\"type\":\"DataRange1d\"},\"x_scale\":{\"id\":\"a79741bd-af20-4386-81e3-387003990df8\",\"type\":\"LinearScale\"},\"y_range\":{\"id\":\"75cb638a-e029-4cb1-9464-2a4e9e4a95d8\",\"type\":\"DataRange1d\"},\"y_scale\":{\"id\":\"4ad9a1a2-0206-45c9-b454-58e9c4e4f19a\",\"type\":\"LinearScale\"}},\"id\":\"35f71cca-9c6d-4743-91b8-4e747b55c979\",\"subtype\":\"Figure\",\"type\":\"Plot\"},{\"attributes\":{\"label\":{\"value\":\"pH\"},\"renderers\":[{\"id\":\"9b746f85-6497-48e6-afab-13e8ffaa8efa\",\"type\":\"GlyphRenderer\"}]},\"id\":\"b3f0fbe9-813b-4f04-bd8f-c1de0ef70db3\",\"type\":\"LegendItem\"},{\"attributes\":{\"line_color\":\"red\",\"line_width\":2,\"x\":{\"field\":\"x\"},\"y\":{\"field\":\"y\"}},\"id\":\"1bf62cb5-d9bc-4c45-ad84-7373a1a39e00\",\"type\":\"Line\"},{\"attributes\":{\"months\":[0,1,2,3,4,5,6,7,8,9,10,11]},\"id\":\"3335796e-e6de-4495-95de-cfd8edd0ce65\",\"type\":\"MonthsTicker\"},{\"attributes\":{\"callback\":null,\"end\":9,\"start\":5},\"id\":\"817d81d3-f4ab-4f3c-a451-926daca5bf93\",\"type\":\"Range1d\"},{\"attributes\":{\"source\":{\"id\":\"1474ce07-bda9-4dbd-9d1e-a278a9552edb\",\"type\":\"ColumnDataSource\"}},\"id\":\"b0f1c592-c403-4353-8cdf-36ef9a223e33\",\"type\":\"CDSView\"},{\"attributes\":{\"active_drag\":\"auto\",\"active_inspect\":\"auto\",\"active_multi\":null,\"active_scroll\":\"auto\",\"active_tap\":\"auto\",\"tools\":[{\"id\":\"87583914-3abf-4a5e-b653-8ed07ff79760\",\"type\":\"PanTool\"},{\"id\":\"697f8066-5643-4242-808a-f3de82ed726b\",\"type\":\"WheelZoomTool\"},{\"id\":\"13e55ba9-da0b-4e3b-9fa7-4435bb3886b8\",\"type\":\"BoxZoomTool\"},{\"id\":\"85d955a0-4f4c-40f8-bf5b-580111207ce1\",\"type\":\"SaveTool\"},{\"id\":\"8980e2fb-b3e9-4869-b811-2b6eb4a25a01\",\"type\":\"ResetTool\"},{\"id\":\"e81a403c-912b-406f-9adf-9ea0baf5c74b\",\"type\":\"HelpTool\"}]},\"id\":\"b74ac3a1-68bc-40b0-956c-d0077576ef6a\",\"type\":\"Toolbar\"},{\"attributes\":{\"mantissas\":[1,2,5],\"max_interval\":500.0,\"num_minor_ticks\":0},\"id\":\"1a533243-f48e-4fe3-87eb-0e8790a808fb\",\"type\":\"AdaptiveTicker\"},{\"attributes\":{\"days\":[1,15]},\"id\":\"b1565913-4d0e-46b9-a474-67d31fc71d2e\",\"type\":\"DaysTicker\"},{\"attributes\":{\"num_minor_ticks\":5,\"tickers\":[{\"id\":\"1a533243-f48e-4fe3-87eb-0e8790a808fb\",\"type\":\"AdaptiveTicker\"},{\"id\":\"68699aff-947b-4a94-9d3a-ff1f89058c2a\",\"type\":\"AdaptiveTicker\"},{\"id\":\"085eafb1-fb60-4a2d-9e49-3a175a436b4b\",\"type\":\"AdaptiveTicker\"},{\"id\":\"1d827ddb-8bd5-4e66-8844-5e80dd462c3c\",\"type\":\"DaysTicker\"},{\"id\":\"02ca9710-d955-4f94-be10-3cf2180c9944\",\"type\":\"DaysTicker\"},{\"id\":\"e5f82274-b756-49cf-acab-bb15f878ecda\",\"type\":\"DaysTicker\"},{\"id\":\"b1565913-4d0e-46b9-a474-67d31fc71d2e\",\"type\":\"DaysTicker\"},{\"id\":\"3335796e-e6de-4495-95de-cfd8edd0ce65\",\"type\":\"MonthsTicker\"},{\"id\":\"49e348da-7e08-4060-8afa-25588804535a\",\"type\":\"MonthsTicker\"},{\"id\":\"c9ed43d5-03ab-4e84-b3dd-0ef9533c00aa\",\"type\":\"MonthsTicker\"},{\"id\":\"bb29cd77-70be-40f4-8693-b8cbb4fd572a\",\"type\":\"MonthsTicker\"},{\"id\":\"60cfd80f-8db8-4855-9b04-69bb65000715\",\"type\":\"YearsTicker\"}]},\"id\":\"8193f9b1-0ac3-4aec-a3bf-6c3052e0a902\",\"type\":\"DatetimeTicker\"},{\"attributes\":{\"line_alpha\":0.1,\"line_color\":\"#1f77b4\",\"line_width\":2,\"x\":{\"field\":\"x\"},\"y\":{\"field\":\"y\"}},\"id\":\"7e68b00b-f151-4a51-994c-220021d5002b\",\"type\":\"Line\"},{\"attributes\":{\"months\":[0,4,8]},\"id\":\"c9ed43d5-03ab-4e84-b3dd-0ef9533c00aa\",\"type\":\"MonthsTicker\"},{\"attributes\":{},\"id\":\"4ad9a1a2-0206-45c9-b454-58e9c4e4f19a\",\"type\":\"LinearScale\"},{\"attributes\":{\"axis_label\":\"y\",\"formatter\":{\"id\":\"e8647775-692e-45be-93db-cbc9ee0badca\",\"type\":\"BasicTickFormatter\"},\"plot\":{\"id\":\"35f71cca-9c6d-4743-91b8-4e747b55c979\",\"subtype\":\"Figure\",\"type\":\"Plot\"},\"ticker\":{\"id\":\"8452c406-c2a4-4dfd-a2d6-dae14674b80a\",\"type\":\"BasicTicker\"}},\"id\":\"9e32453f-7ee4-4adb-a2f2-f7fd037eecc7\",\"type\":\"LinearAxis\"},{\"attributes\":{},\"id\":\"e8647775-692e-45be-93db-cbc9ee0badca\",\"type\":\"BasicTickFormatter\"},{\"attributes\":{},\"id\":\"697f8066-5643-4242-808a-f3de82ed726b\",\"type\":\"WheelZoomTool\"},{\"attributes\":{},\"id\":\"0358bf14-0c80-4551-9a69-35aea85ce37b\",\"type\":\"DatetimeTickFormatter\"},{\"attributes\":{},\"id\":\"a79741bd-af20-4386-81e3-387003990df8\",\"type\":\"LinearScale\"},{\"attributes\":{\"plot\":{\"id\":\"35f71cca-9c6d-4743-91b8-4e747b55c979\",\"subtype\":\"Figure\",\"type\":\"Plot\"},\"ticker\":{\"id\":\"8193f9b1-0ac3-4aec-a3bf-6c3052e0a902\",\"type\":\"DatetimeTicker\"}},\"id\":\"7b124ffa-4e2e-4dce-aa16-49faef183879\",\"type\":\"Grid\"},{\"attributes\":{\"label\":{\"value\":\"NH4\"},\"renderers\":[{\"id\":\"fe0587a6-22ef-40fa-bed2-1bbd1909b563\",\"type\":\"GlyphRenderer\"}]},\"id\":\"86b627ee-b18e-404a-91a1-749f8e26a30f\",\"type\":\"LegendItem\"},{\"attributes\":{\"months\":[0,2,4,6,8,10]},\"id\":\"49e348da-7e08-4060-8afa-25588804535a\",\"type\":\"MonthsTicker\"},{\"attributes\":{\"callback\":null,\"data\":{\"x\":{\"__ndarray__\":\"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\",\"dtype\":\"float64\",\"shape\":[800]},\"y\":{\"__ndarray__\":\"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\",\"dtype\":\"float64\",\"shape\":[800]}},\"selected\":{\"id\":\"6ae7f579-b794-42e0-9df5-d65489e01174\",\"type\":\"Selection\"},\"selection_policy\":{\"id\":\"b99bb0a0-8016-4126-a6e9-9530b9f05257\",\"type\":\"UnionRenderers\"}},\"id\":\"b82015d6-94f2-426d-a216-55be910c999f\",\"type\":\"ColumnDataSource\"},{\"attributes\":{\"callback\":null,\"data\":{\"x\":{\"__ndarray__\":\"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\",\"dtype\":\"float64\",\"shape\":[800]},\"y\":{\"__ndarray__\":\"AAAAAAAAAAAAAAAAAAAAAAAAAAAAAAAAAAAAAAAAAAAAAAAAAAAAAAAAAAAAAAAAAAAAAAAAAAAAAAAAAAAAAAAAAAAAAAAAAAAAAAAAAAAAAAAAAAAAAAAAAAAAAAAAAAAAAAAAAAAAAAAAAAAAAAAAAAAAAAAAAAAAAAAAAAAAAAAAAAAAAAAAAAAAAAAAAAAAAAAAAAAAAAAAAAAAAAAAAAAAAAAAAAAAAAAAAAAAAAAAAAAAAAAAAAAAAAAAAAAAAAAAAAAAAAAAAAAAAAAAAAAAAAAAAAAAAAAAAAAAAAAAAAAAAAAAAAAAAAAAAAAAAAAAAAAAAAAAAAAAAAAAAAAAAAAAAAAAAAAAAAAAAAAAAAAAAAAAAAAAAAAAAAAAAAAAAAAAAAAAAAAAAAAAAAAAAAAAAAAAAAAAAAAAAAAAAAAAAAAAAAAAAAAAAAAAAAAAAAAAAAAAAAAAAAAAAAAAAAAAAAAAAAAAAAAAAAAAAAAAAAAAAAAAAAAAAAAAAAAAAAAAAAAAAAAAAAAAAAAAAAAAAAAAAAAAAAAAAAAAAAAAAAAAAAAAAAAAAAAAAAAAAAAAAAAAAAAAAAAAAAAAAAAAAAAAAAAAAAAAAAAAAAAAAAAAAAAAABRAAAAAAAAAFEAAAAAAAAAUQAAAAAAAABRAAAAAAAAAFEAAAAAAAAAUQAAAAAAAABRAAAAAAAAAFEAAAAAAAAAUQAAAAAAAABRAAAAAAAAAFEAAAAAAAAAUQAAAAAAAABRAAAAAAAAAFEAAAAAAAAAUQAAAAAAAABRAAAAAAAAAFEAAAAAAAAAUQAAAAAAAABRAAAAAAAAAFEAAAAAAAAAAAAAAAAAAAAAAAAAAAAAAAAAAAAAAAAAAAAAAAAAAAAAAAAAAAAAAAAAAAAAAAAAAAAAAAAAAAAAAAAAAAAAAAAAAAAAAAAAAAAAAAAAAAAAAAAAAAAAAAAAAAAAAAAAAAAAAAAAAAAAAAAAAAAAAAAAAAAAAAAAAAAAAAAAAAAAAAAAAAAAAAAAAAAAAAAAAAAAAAAAAAAAAAAAAAAAAAAAAAAAAAAAAAAAAAAAAAAAAAAAAAAAAAAAAAAAAAAAAAAAAAAAAAAAAAAAAAAAAAAAAAAAAAAAAAAAAAAAAAAAAAAAAAAAAAAAAAAAAAAAAAAAAAAAAAAAAAAAAAAAAAAAAAAAAAAAAAAAAAAAAAAAAAAAAAAAAAAAAAAAAAAAAAAAAAAAAAAAAAAAAAAAAAAAAAAAAAAAAAAAAAAAAAAAAAAAAAAAAAAAAAAAAAAAAAAAAAAAAAAAAAAAAAAAAAAAAAAAAAAAAAAAAAAAAAAAAAAAAAAAAAAAAAAAAAAAAAAAAAAAAAAAAAAAAAAAAAAAAAAAAAAAAAAAAAAAAAAAAAAAAAAAAAAAAAAAAAAAAAAAAAAAAABRAAAAAAAAAFEAAAAAAAAAUQAAAAAAAABRAAAAAAAAAFEAAAAAAAAAUQAAAAAAAABRAAAAAAAAAFEAAAAAAAAAUQAAAAAAAABRAAAAAAAAAFEAAAAAAAAAUQAAAAAAAABRAAAAAAAAAFEAAAAAAAAAUQAAAAAAAABRAAAAAAAAAFEAAAAAAAAAUQAAAAAAAABRAAAAAAAAAFEAAAAAAAAAAAAAAAAAAAAAAAAAAAAAAAAAAAAAAAAAAAAAAAAAAAAAAAAAAAAAAAAAAAAAAAAAAAAAAAAAAAAAAAAAAAAAAAAAAAAAAAAAAAAAAAAAAAAAAAAAAAAAAAAAAAAAAAAAAAAAAAAAAAAAAAAAAAAAAAAAAAAAAAAAAAAAAAAAAAAAAAAAAAAAAAAAAAAAAAAAAAAAAAAAAAAAAAAAAAAAAAAAAAAAAAAAAAAAAAAAAAAAAAAAAAAAAAAAAAAAAAAAAAAAAAAAAAAAAAAAAAAAAAAAAAAAAAAAAAAAAAAAAAAAAAAAAAAAAAAAAAAAAAAAAAAAAAAAAAAAAAAAAAAAAAAAAAAAAAAAAAAAAAAAAAAAAAAAAAAAAAAAAAAAAAAAAAAAAAAAAAAAAAAAAAAAAAAAAAAAAAAAAAAAAAAAAAAAAAAAAAAAAAAAAAAAAAAAAAAAAAAAAAAAAAAAAAAAAAAAAAAAAAAAAAAAAAAAAAAAAAAAAAAAAAAAAAAAAAAAAAAAAAAAAAAAAAAAAAAAAAAAAAAAAAAAAAAAAAAAAAAAAAAAAAAAAAAAAAAAAAAAAAAAAAAAAABRAAAAAAAAAFEAAAAAAAAAUQAAAAAAAABRAAAAAAAAAFEAAAAAAAAAUQAAAAAAAABRAAAAAAAAAFEAAAAAAAAAUQAAAAAAAABRAAAAAAAAAFEAAAAAAAAAUQAAAAAAAABRAAAAAAAAAFEAAAAAAAAAUQAAAAAAAABRAAAAAAAAAFEAAAAAAAAAUQAAAAAAAABRAAAAAAAAAFEAAAAAAAAAAAAAAAAAAAAAAAAAAAAAAAAAAAAAAAAAAAAAAAAAAAAAAAAAAAAAAAAAAAAAAAAAAAAAAAAAAAAAAAAAAAAAAAAAAAAAAAAAAAAAAAAAAAAAAAAAAAAAAAAAAAAAAAAAAAAAAAAAAAAAAAAAAAAAAAAAAAAAAAAAAAAAAAAAAAAAAAAAAAAAAAAAAAAAAAAAAAAAAAAAAAAAAAAAAAAAAAAAAAAAAAAAAAAAAAAAAAAAAAAAAAAAAAAAAAAAAAAAAAAAAAAAAAAAAAAAAAAAAAAAAAAAAAAAAAAAAAAAAAAAAAAAAAAAAAAAAAAAAAAAAAAAAAAAAAAAAAAAAAAAAAAAAAAAAAAAAAAAAAAAAAAAAAAAAAAAAAAAAAAAAAAAAAAAAAAAAAAAAAAAAAAAAAAAAAAAAAAAAAAAAAAAAAAAAAAAAAAAAAAAAAAAAAAAAAAAAAAAAAAAAAAAAAAAAAAAAAAAAAAAAAAAAAAAAAAAAAAAAAAAAAAAAAAAAAAAAAAAAAAAAAAAAAAAAAAAAAAAAAAAAAAAAAAAAAAAAAAAAAAAAAAAAAAAAAAAAAAAAAAAAAAAAABRAAAAAAAAAFEAAAAAAAAAUQAAAAAAAABRAAAAAAAAAFEAAAAAAAAAAAAAAAAAAAAAAAAAAAAAAAAAAAAAAAAAAAAAAAAAAAAAAAAAAAAAAAAAAAAAAAAAAAAAAAAAAAAAAAAAAAAAAAAAAAAAAAAAAAAAAAAAAAAAAAAAAAAAAAAAAAAAAAAAAAAAAAAAAAAAAAAAAAAAAAAAAAAAAAAAAAAAAAAAAAAAAAAAAAAAAAAAAAAAAAAAAAAAAAAAAAAAAAAAAAAAAAAAAAAAAAAAAAAAAAAAAAAAAAAAAAAAAAAAAAAAAAAAAAAAAAAAAAAAAAAAAAAAAAAAAAAAAAAAAAAAAAAAAAAAAAAAAAAAAAAAAAAAAAAAAAAAAAAAAAAAAAAAAAAAAAAAAAAAAAAAAAAAAAAAAAAAAAAAAAAAAAAAAAAAAAAAAAAAAAAAAAAAAAAAAAAAAAAAAAAAAAAAAAAAAAAAAAAAAAAAAAAAAAAAAAAAAAAAAAAAAAAAAAAAAAAAAAAAAAAAAAAAAAAAAAAAAAAAAAAAAAAAAAAAAAAAAAAAAAAAAAAAAAAAAAAAAAAAAAAAAAAAAAAAAAAAAAAAAAAAAAAAAAAAAAAAAAAAAAAAAAAAAAAAAAAAAABRAAAAAAAAAFEAAAAAAAAAUQAAAAAAAABRAAAAAAAAAFEAAAAAAAAAAAAAAAAAAAAAAAAAAAAAAAAAAAAAAAAAAAAAAAAAAAAAAAAAAAAAAAAAAAAAAAAAAAAAAAAAAAAAAAAAAAAAAAAAAAAAAAAAAAAAAAAAAAAAAAAAAAAAAAAAAAAAAAAAAAAAAAAAAAAAAAAAAAAAAAAAAAAAAAAAAAAAAAAAAAAAAAAAAAAAAAAAAAAAAAAAAAAAAAAAAAAAAAAAAAAAAAAAAAAAAAAAAAAAAAAAAAAAAAAAAAAAAAAAAAAAAAAAAAAAAAAAAAAAAAAAAAAAAAAAAAAAAAAAAAAAAAAAAAAAAAAAAAAAAAAAAAAAAAAAAAAAAAAAAAAAAAAAAAAAAAAAAAAAAAAAAAAAAAAAAAAAAAAAAAAAAAAAAAAAAAAAAAAAAAAAAAAAAAAAAAAAAAAAAAAAAAAAAAAAAAAAAAAAAAAAAAAAAAAAAAAAAAAAAAAAAAAAAAAAAAAAAAAAAAAAAAAAAAAAAAAAAAAAAAAAAAAAAAAAAAAAAAAAAAAAAAAAAAAAAAAAAAAAAAAAAAAAAAAAAAAAAAAAAAAAAAAAAAAAAAAAAAAAAAAAAAAAAAAAAAAAAABRAAAAAAAAAFEAAAAAAAAAUQAAAAAAAABRAAAAAAAAAFEAAAAAAAAAAAAAAAAAAAAAAAAAAAAAAAAAAAAAAAAAAAAAAAAAAAAAAAAAAAAAAAAAAAAAAAAAAAAAAAAAAAAAAAAAAAAAAAAAAAAAAAAAAAAAAAAAAAAAAAAAAAAAAAAAAAAAAAAAAAAAAAAAAAAAAAAAAAAAAAAAAAAAAAAAAAAAAAAAAAAAAAAAAAAAAAAAAAAAAAAAAAAAAAAAAAAAAAAAAAAAAAAAAAAAAAAAAAAAAAAAAAAAAAAAAAAAAAAAAAAAAAAAAAAAAAAAAAAAAAAAAAAAAAAAAAAAAAAAAAAAAAAAAAAAAAAAAAAAAAAAAAAAAAAAAAAAAAAAAAAAAAAAAAAAAAAAAAAAAAAAAAAAAAAAAAAAAAAAAAAAAAAAAAAAAAAAAAAAAAAAAAAAAAAAAAAAAAAAAAAAAAAAAAAAAAAAAAAAAAAAAAAAAAAAAAAAAAAAAAAAAAAAAAAAAAAAAAAAAAAAAAAAAAAAAAAAAAAAAAAAAAAAAAAAAAAAAAAAAAAAAAAAAAAAAAAAAAAAAAAAAAAAAAAAAAAAAAAAAAAAAAAAAAAAAAAAAAAAAAAAAAAAAAAAAAAAAAAAAAAAAAAAAAAAAAAAAAAAAAAAAAAAAAAAAAAAAAAAAAAAAAAAAAAAAAAAAAAAAAAAAAAAAAAAAAAAAAAAAAAAAAAAAAAAAAAAAAAAAAAAAAAAAAAAAAAAAAAAAAAAAAAAAAAAAAAAAAAAAAAAAAAAAAAAAAAAAAAAAAAAAAAAAAAAAAAAAAAAAAAAAAAAAAAAAAAAAAAAAAAAAAAAAAAAAAAAAAAAAAAAAAAAAAAAAAAAAAAAAAAAAAAAAAAAAAAAAAAAAAAAAAAAAAAAAAAAAAAAAAAAAAAAAAAAAAAAAAAAAAAAAAAAAAAAAAAAAAAAAAAAAAAAAAAAAAAAAAAAAAAAAAAAAAAAAAAAAAAAAAAAAAAAAAAAAAAAAAAAAAAAAAAAAAAAAAAAAAAAAAAAAAAAAAAAAAAAAAAAAAAAAAAAAAAAAAAAAAAAAAAAAAAAAAAAAAAAAAAAAAAAAAAAAAAAAAAAAAAAAAAAAAAAAAAAAAAAAAAAAAAAAAAAAAAAAAAAAAAAAFEAAAAAAAAAUQAAAAAAAABRAAAAAAAAAFEAAAAAAAAAUQAAAAAAAABRAAAAAAAAAFEAAAAAAAAAUQAAAAAAAABRAAAAAAAAAFEAAAAAAAAAUQAAAAAAAABRAAAAAAAAAFEAAAAAAAAAUQAAAAAAAABRAAAAAAAAAFEAAAAAAAAAUQAAAAAAAABRAAAAAAAAAFEAAAAAAAAAUQAAAAAAAAAAAAAAAAAAAAAAAAAAAAAAAAAAAAAAAAAAAAAAAAAAAAAAAAAAAAAAAAAAAAAAAAAAAAAAAAAAAAAAAAAAAAAAAAAAAAAAAAAAAAAAAAAAAAAAAAAAAAAAAAAAAAAAAAAAAAAAAAAAAAAAAAAAAAAAAAAAAAAAAAAAAAAAAAAAAAAAAAAAAAAAAAAAAAAAAAAAAAAAAAAAAAAAAAAAAAAAAAAAAAAAAAAAAAAAAAAAAAAAAAAAAAAAAAAAAAAAAAAAAAAAAAAAAAAAAAAAAAAAAAAAAAAAAAAAAAAAAAAAAAAAAAAAAAAAAAAAAAAAAAAAAAAAAAAAAAAAAAAAAAAAAAAAAAAAAAAAAAAAAAAAAAAAAAAAAAAAAAAAAAAAAAAAAAAAAAAAAAAAAAAAAAAAAAAAAAAAAAAAAAAAAAAAAAAAAAAAAAAAAAAAAAAAAAAAAAAAAAAAAAAAAAAAAAAAAAAAAAAAAAAAAAAAAAAAAAAAAAAAAAAAAAAAAAAAAAAAAAAAAAAAAAAAAAAAAAAAAAAAAAAAAAAAAAAAAAAAAAAAAAAAAAAAAAAAAAAAAAAAAAAAAAAAAFEAAAAAAAAAUQAAAAAAAABRAAAAAAAAAFEAAAAAAAAAUQAAAAAAAABRAAAAAAAAAFEAAAAAAAAAUQAAAAAAAABRAAAAAAAAAFEAAAAAAAAAUQAAAAAAAABRAAAAAAAAAFEAAAAAAAAAUQAAAAAAAABRAAAAAAAAAFEAAAAAAAAAUQAAAAAAAABRAAAAAAAAAFEAAAAAAAAAUQAAAAAAAAAAAAAAAAAAAAAAAAAAAAAAAAAAAAAAAAAAAAAAAAAAAAAAAAAAAAAAAAAAAAAAAAAAAAAAAAAAAAAAAAAAAAAAAAAAAAAAAAAAAAAAAAAAAAAAAAAAAAAAAAAAAAAAAAAAAAAAAAAAAAAAAAAAAAAAAAAAAAAAAAAAAAAAAAAAAAAAAAAAAAAAAAAAAAAAAAAAAAAAAAAAAAAAAAAAAAAAAAAAAAAAAAAAAAAAAAAAAAAAAAAAAAAAAAAAAAAAAAAAAAAAAAAAAAAAAAAAAAAAAAAAAAAAAAAAAAAAAAAAAAAAAAAAAAAAAAAAAAAAAAAAAAAAAAAAAAAAAAAAAAAAAAAAAAAAAAAAAAAAAAAAAAAAAAAAAAAAAAAAAAAAAAAAAAAAAAAAAAAAAAAAAAAAAAAAAAAAAAAAAAAAAAAAAAAAAAAAAAAAAAAAAAAAAAAAAAAAAAAAAAAAAAAAAAAAAAAAAAAAAAAAAAAAAAAAAAAAAAAAAAAAAAAAAAAAAAAAAAAAAAAAAAAAAAAAAAAAAAAAAAAAAAAAAAAAAAAAAAAAAAAAAAAAAAAAAAAAAABRAAAAAAAAAFEAAAAAAAAAUQAAAAAAAABRAAAAAAAAAFEAAAAAAAAAUQAAAAAAAABRAAAAAAAAAFEAAAAAAAAAUQAAAAAAAABRAAAAAAAAAFEAAAAAAAAAUQAAAAAAAABRAAAAAAAAAFEAAAAAAAAAUQAAAAAAAABRAAAAAAAAAFEAAAAAAAAAUQAAAAAAAABRAAAAAAAAAFEAAAAAAAAAAAAAAAAAAAAAAAAAAAAAAAAAAAAAAAAAAAAAAAAAAAAAAAAAAAAAAAAAAAAAAAAAAAAAAAAAAAAAAAAAAAAAAAAAAAAAAAAAAAAAAAAAAAAAAAAAAAAAAAAAAAAAAAAAAAAAAAAAAAAAAAAAAAAAAAAAAAAAAAAAAAAAAAAAAAAAAAAAAAAAAAAAAAAAAAAAAAAAAAAAAAAAAAAAAAAAAAAAAAAAAAAAAAAAAAAAAAAAAAAAAAAAAAAAAAAAAAAAAAAAAAAAAAAAAAAAAAAAAAAAAAAAAAAAAAAAAAAAAAAAAAAAAAAAAAAAAAAAAAAAAAAAAAAAAAAAAAAAAAAAAAAAAAAAAAAAAAAAAAAAAAAAAAAAAAAAAAAAAAAAAAAAAAAAAAAAAAAAAAAAAAAAAAAAAAAAAAAAAAAAAAAAAAAAAAAAAAAAAAAAAAAAAAAAAAAAAAAAAAAAAAAAAAAAAAAAAAAAAAAAAAAAAAAAAAAAAAAAAAAAAAAAAAAAAAAAAAAAAAAAAAAAAAAAAAAAAAAAAAAAAAAAAAAAAAAAAAAAAAAAAAAAAAAAAAAAAAAAAAAAAAAAAABRAAAAAAAAAFEAAAAAAAAAUQAAAAAAAABRAAAAAAAAAFEAAAAAAAAAUQAAAAAAAABRAAAAAAAAAFEAAAAAAAAAUQAAAAAAAABRAAAAAAAAAFEAAAAAAAAAUQAAAAAAAABRAAAAAAAAAFEAAAAAAAAAUQAAAAAAAABRAAAAAAAAAFEAAAAAAAAAUQAAAAAAAABRAAAAAAAAAFEAAAAAAAAAAAAAAAAAAAAAAAAAAAAAAAAAAAAAAAAAAAAAAAAAAAAAAAAAAAAAAAAAAAAAAAAAAAAAAAAAAAAAAAAAAAAAAAAAAAAAAAAAAAAAAAAAAAAAAAAAAAAAAAAAAAAAAAAAAAAAAAAAAAAAAAAAAAAAAAAAAAAAAAAAAAAAAAAAAAAAAAAAAAAAAAAAAAAAAAAAAAAAAAAAAAAAAAAAAAAAAAAAAAAAAAAAAAAAAAAAAAAAAAAAAAAAAAAAAAAAAAAAAAAAAAAAAAAAAAAAAAAAAAAAAAAAAAAAAAAAAAAAAAAAAAAAAAAAAAAAAAAAAAAAAAAAAAAAAAAAAAAAAAAAAAAAAAAAAAAAAAAAAAAAAAAAAAAAAAAAAAAAAAAAAAAAAAAAAAAAAAAAAAAAAAAAAAAAAAAAAAAAAAAAAAAAAAAAAAAAAAAAAAAAAAAAAAAAAAA==\",\"dtype\":\"float64\",\"shape\":[800]}},\"selected\":{\"id\":\"bc1483f3-26bd-445c-ac07-42c25a7eabdb\",\"type\":\"Selection\"},\"selection_policy\":{\"id\":\"61f7485c-8e26-4e36-9725-193ef81b6616\",\"type\":\"UnionRenderers\"}},\"id\":\"1474ce07-bda9-4dbd-9d1e-a278a9552edb\",\"type\":\"ColumnDataSource\"},{\"attributes\":{},\"id\":\"8452c406-c2a4-4dfd-a2d6-dae14674b80a\",\"type\":\"BasicTicker\"},{\"attributes\":{\"line_alpha\":0.1,\"line_color\":\"#1f77b4\",\"line_width\":2,\"x\":{\"field\":\"x\"},\"y\":{\"field\":\"y\"}},\"id\":\"436f006e-6897-4171-b752-ec3ba6ca83f9\",\"type\":\"Line\"},{\"attributes\":{\"formatter\":{\"id\":\"15ab8f3c-be43-4887-acae-ae306f38a0fb\",\"type\":\"BasicTickFormatter\"},\"plot\":{\"id\":\"35f71cca-9c6d-4743-91b8-4e747b55c979\",\"subtype\":\"Figure\",\"type\":\"Plot\"},\"ticker\":{\"id\":\"8fc82618-adc4-4547-9625-abdd2b756ef1\",\"type\":\"BasicTicker\"},\"y_range_name\":\"ph\"},\"id\":\"580109a9-d6eb-441e-a906-c8809d5df648\",\"type\":\"LinearAxis\"},{\"attributes\":{},\"id\":\"87583914-3abf-4a5e-b653-8ed07ff79760\",\"type\":\"PanTool\"},{\"attributes\":{\"days\":[1,4,7,10,13,16,19,22,25,28]},\"id\":\"02ca9710-d955-4f94-be10-3cf2180c9944\",\"type\":\"DaysTicker\"},{\"attributes\":{},\"id\":\"5406ded4-4440-445a-95b3-dc6b0dadcfae\",\"type\":\"Selection\"},{\"attributes\":{\"callback\":null},\"id\":\"75cb638a-e029-4cb1-9464-2a4e9e4a95d8\",\"type\":\"DataRange1d\"},{\"attributes\":{\"days\":[1,8,15,22]},\"id\":\"e5f82274-b756-49cf-acab-bb15f878ecda\",\"type\":\"DaysTicker\"},{\"attributes\":{\"dimension\":1,\"plot\":{\"id\":\"35f71cca-9c6d-4743-91b8-4e747b55c979\",\"subtype\":\"Figure\",\"type\":\"Plot\"},\"ticker\":{\"id\":\"8452c406-c2a4-4dfd-a2d6-dae14674b80a\",\"type\":\"BasicTicker\"}},\"id\":\"9f9f922e-880b-4e71-bfae-fb5cba93cb79\",\"type\":\"Grid\"},{\"attributes\":{\"items\":[{\"id\":\"86b627ee-b18e-404a-91a1-749f8e26a30f\",\"type\":\"LegendItem\"},{\"id\":\"3b2a19ee-65a1-4760-ab08-bab849de117a\",\"type\":\"LegendItem\"},{\"id\":\"b3f0fbe9-813b-4f04-bd8f-c1de0ef70db3\",\"type\":\"LegendItem\"}],\"plot\":{\"id\":\"35f71cca-9c6d-4743-91b8-4e747b55c979\",\"subtype\":\"Figure\",\"type\":\"Plot\"}},\"id\":\"b334a178-30d5-4db3-b13b-07c7670542d1\",\"type\":\"Legend\"},{\"attributes\":{},\"id\":\"8fc82618-adc4-4547-9625-abdd2b756ef1\",\"type\":\"BasicTicker\"},{\"attributes\":{\"plot\":null,\"text\":\"Sensor data plot\"},\"id\":\"208ef87a-b757-4508-be9c-6d12e1bab09a\",\"type\":\"Title\"},{\"attributes\":{\"base\":24,\"mantissas\":[1,2,4,6,8,12],\"max_interval\":43200000.0,\"min_interval\":3600000.0,\"num_minor_ticks\":0},\"id\":\"085eafb1-fb60-4a2d-9e49-3a175a436b4b\",\"type\":\"AdaptiveTicker\"},{\"attributes\":{\"overlay\":{\"id\":\"66f183c1-17ae-43ab-b90f-1d2c755bb4d1\",\"type\":\"BoxAnnotation\"}},\"id\":\"13e55ba9-da0b-4e3b-9fa7-4435bb3886b8\",\"type\":\"BoxZoomTool\"},{\"attributes\":{\"line_alpha\":0.1,\"line_color\":\"#1f77b4\",\"line_width\":2,\"x\":{\"field\":\"x\"},\"y\":{\"field\":\"y\"}},\"id\":\"645a2ba0-c6a8-4a2b-a867-56634bdc619d\",\"type\":\"Line\"},{\"attributes\":{\"source\":{\"id\":\"b82015d6-94f2-426d-a216-55be910c999f\",\"type\":\"ColumnDataSource\"}},\"id\":\"e1e25c35-62d4-4541-99d9-697b76b7f6ee\",\"type\":\"CDSView\"},{\"attributes\":{\"source\":{\"id\":\"2bd3df80-a778-414e-ad72-87adc356b542\",\"type\":\"ColumnDataSource\"}},\"id\":\"8397b9d8-e4a0-412f-bc41-b9848e1ca964\",\"type\":\"CDSView\"},{\"attributes\":{\"months\":[0,6]},\"id\":\"bb29cd77-70be-40f4-8693-b8cbb4fd572a\",\"type\":\"MonthsTicker\"},{\"attributes\":{},\"id\":\"15ab8f3c-be43-4887-acae-ae306f38a0fb\",\"type\":\"BasicTickFormatter\"},{\"attributes\":{},\"id\":\"f9453bb3-478b-4eb7-a2fd-db7515cb2ce6\",\"type\":\"UnionRenderers\"},{\"attributes\":{},\"id\":\"bc1483f3-26bd-445c-ac07-42c25a7eabdb\",\"type\":\"Selection\"},{\"attributes\":{\"base\":60,\"mantissas\":[1,2,5,10,15,20,30],\"max_interval\":1800000.0,\"min_interval\":1000.0,\"num_minor_ticks\":0},\"id\":\"68699aff-947b-4a94-9d3a-ff1f89058c2a\",\"type\":\"AdaptiveTicker\"},{\"attributes\":{},\"id\":\"61f7485c-8e26-4e36-9725-193ef81b6616\",\"type\":\"UnionRenderers\"},{\"attributes\":{},\"id\":\"60cfd80f-8db8-4855-9b04-69bb65000715\",\"type\":\"YearsTicker\"},{\"attributes\":{},\"id\":\"e81a403c-912b-406f-9adf-9ea0baf5c74b\",\"type\":\"HelpTool\"},{\"attributes\":{\"data_source\":{\"id\":\"1474ce07-bda9-4dbd-9d1e-a278a9552edb\",\"type\":\"ColumnDataSource\"},\"glyph\":{\"id\":\"1bf62cb5-d9bc-4c45-ad84-7373a1a39e00\",\"type\":\"Line\"},\"hover_glyph\":null,\"muted_glyph\":null,\"nonselection_glyph\":{\"id\":\"436f006e-6897-4171-b752-ec3ba6ca83f9\",\"type\":\"Line\"},\"selection_glyph\":null,\"view\":{\"id\":\"b0f1c592-c403-4353-8cdf-36ef9a223e33\",\"type\":\"CDSView\"}},\"id\":\"313da7f6-c7a8-4045-916a-7c56e6111832\",\"type\":\"GlyphRenderer\"},{\"attributes\":{},\"id\":\"6ae7f579-b794-42e0-9df5-d65489e01174\",\"type\":\"Selection\"}],\"root_ids\":[\"35f71cca-9c6d-4743-91b8-4e747b55c979\"]},\"title\":\"Bokeh Application\",\"version\":\"0.13.0\"}};\n",
       "  var render_items = [{\"docid\":\"f53b5138-d5bd-4b4c-ac17-3e49f8ab8afe\",\"roots\":{\"35f71cca-9c6d-4743-91b8-4e747b55c979\":\"d34f9a0e-3a93-4f1e-8979-318c8830fea0\"}}];\n",
       "  root.Bokeh.embed.embed_items_notebook(docs_json, render_items);\n",
       "\n",
       "  }\n",
       "  if (root.Bokeh !== undefined) {\n",
       "    embed_document(root);\n",
       "  } else {\n",
       "    var attempts = 0;\n",
       "    var timer = setInterval(function(root) {\n",
       "      if (root.Bokeh !== undefined) {\n",
       "        embed_document(root);\n",
       "        clearInterval(timer);\n",
       "      }\n",
       "      attempts++;\n",
       "      if (attempts > 100) {\n",
       "        console.log(\"Bokeh: ERROR: Unable to run BokehJS code because BokehJS library is missing\")\n",
       "        clearInterval(timer);\n",
       "      }\n",
       "    }, 10, root)\n",
       "  }\n",
       "})(window);"
      ],
      "application/vnd.bokehjs_exec.v0+json": ""
     },
     "metadata": {
      "application/vnd.bokehjs_exec.v0+json": {
       "id": "35f71cca-9c6d-4743-91b8-4e747b55c979"
      }
     },
     "output_type": "display_data"
    }
   ],
   "source": [
    "p = figure(title=\"Sensor data plot\", x_axis_label='time', y_axis_label='y',\n",
    "          plot_width=900, plot_height=450, x_axis_type=\"datetime\")\n",
    "\n",
    "# Setting the second y axis range name and range\n",
    "p.extra_y_ranges = {\"ph\": Range1d(start=5, end=9)}\n",
    "\n",
    "# Adding the second axis to the plot.  \n",
    "p.add_layout(LinearAxis(y_range_name=\"ph\"), 'right')\n",
    "\n",
    "p.line(s_sensor_df.index, s_sensor_df['Ammonium Concentration'], line_width=2, legend='NH4')\n",
    "p.line(s_sensor_df.index, s_sensor_df['MFC Voltage'], line_width=2, legend='Air', line_color=\"red\")\n",
    "p.line(s_sensor_df.index, s_sensor_df['pH'], line_width=2, legend='pH', line_color=\"green\",\n",
    "      y_range_name=\"ph\")\n",
    "\n",
    "show(p)"
   ]
  },
  {
   "cell_type": "code",
   "execution_count": 14,
   "metadata": {},
   "outputs": [
    {
     "data": {
      "text/html": [
       "\n",
       "    <div class=\"bk-root\">\n",
       "        <a href=\"https://bokeh.pydata.org\" target=\"_blank\" class=\"bk-logo bk-logo-small bk-logo-notebook\"></a>\n",
       "        <span id=\"4d022ab2-ea6e-4bd0-8fa9-09f7c909bd64\">Loading BokehJS ...</span>\n",
       "    </div>"
      ]
     },
     "metadata": {},
     "output_type": "display_data"
    },
    {
     "data": {
      "application/javascript": [
       "\n",
       "(function(root) {\n",
       "  function now() {\n",
       "    return new Date();\n",
       "  }\n",
       "\n",
       "  var force = true;\n",
       "\n",
       "  if (typeof (root._bokeh_onload_callbacks) === \"undefined\" || force === true) {\n",
       "    root._bokeh_onload_callbacks = [];\n",
       "    root._bokeh_is_loading = undefined;\n",
       "  }\n",
       "\n",
       "  var JS_MIME_TYPE = 'application/javascript';\n",
       "  var HTML_MIME_TYPE = 'text/html';\n",
       "  var EXEC_MIME_TYPE = 'application/vnd.bokehjs_exec.v0+json';\n",
       "  var CLASS_NAME = 'output_bokeh rendered_html';\n",
       "\n",
       "  /**\n",
       "   * Render data to the DOM node\n",
       "   */\n",
       "  function render(props, node) {\n",
       "    var script = document.createElement(\"script\");\n",
       "    node.appendChild(script);\n",
       "  }\n",
       "\n",
       "  /**\n",
       "   * Handle when an output is cleared or removed\n",
       "   */\n",
       "  function handleClearOutput(event, handle) {\n",
       "    var cell = handle.cell;\n",
       "\n",
       "    var id = cell.output_area._bokeh_element_id;\n",
       "    var server_id = cell.output_area._bokeh_server_id;\n",
       "    // Clean up Bokeh references\n",
       "    if (id != null && id in Bokeh.index) {\n",
       "      Bokeh.index[id].model.document.clear();\n",
       "      delete Bokeh.index[id];\n",
       "    }\n",
       "\n",
       "    if (server_id !== undefined) {\n",
       "      // Clean up Bokeh references\n",
       "      var cmd = \"from bokeh.io.state import curstate; print(curstate().uuid_to_server['\" + server_id + \"'].get_sessions()[0].document.roots[0]._id)\";\n",
       "      cell.notebook.kernel.execute(cmd, {\n",
       "        iopub: {\n",
       "          output: function(msg) {\n",
       "            var id = msg.content.text.trim();\n",
       "            if (id in Bokeh.index) {\n",
       "              Bokeh.index[id].model.document.clear();\n",
       "              delete Bokeh.index[id];\n",
       "            }\n",
       "          }\n",
       "        }\n",
       "      });\n",
       "      // Destroy server and session\n",
       "      var cmd = \"import bokeh.io.notebook as ion; ion.destroy_server('\" + server_id + \"')\";\n",
       "      cell.notebook.kernel.execute(cmd);\n",
       "    }\n",
       "  }\n",
       "\n",
       "  /**\n",
       "   * Handle when a new output is added\n",
       "   */\n",
       "  function handleAddOutput(event, handle) {\n",
       "    var output_area = handle.output_area;\n",
       "    var output = handle.output;\n",
       "\n",
       "    // limit handleAddOutput to display_data with EXEC_MIME_TYPE content only\n",
       "    if ((output.output_type != \"display_data\") || (!output.data.hasOwnProperty(EXEC_MIME_TYPE))) {\n",
       "      return\n",
       "    }\n",
       "\n",
       "    var toinsert = output_area.element.find(\".\" + CLASS_NAME.split(' ')[0]);\n",
       "\n",
       "    if (output.metadata[EXEC_MIME_TYPE][\"id\"] !== undefined) {\n",
       "      toinsert[toinsert.length - 1].firstChild.textContent = output.data[JS_MIME_TYPE];\n",
       "      // store reference to embed id on output_area\n",
       "      output_area._bokeh_element_id = output.metadata[EXEC_MIME_TYPE][\"id\"];\n",
       "    }\n",
       "    if (output.metadata[EXEC_MIME_TYPE][\"server_id\"] !== undefined) {\n",
       "      var bk_div = document.createElement(\"div\");\n",
       "      bk_div.innerHTML = output.data[HTML_MIME_TYPE];\n",
       "      var script_attrs = bk_div.children[0].attributes;\n",
       "      for (var i = 0; i < script_attrs.length; i++) {\n",
       "        toinsert[toinsert.length - 1].firstChild.setAttribute(script_attrs[i].name, script_attrs[i].value);\n",
       "      }\n",
       "      // store reference to server id on output_area\n",
       "      output_area._bokeh_server_id = output.metadata[EXEC_MIME_TYPE][\"server_id\"];\n",
       "    }\n",
       "  }\n",
       "\n",
       "  function register_renderer(events, OutputArea) {\n",
       "\n",
       "    function append_mime(data, metadata, element) {\n",
       "      // create a DOM node to render to\n",
       "      var toinsert = this.create_output_subarea(\n",
       "        metadata,\n",
       "        CLASS_NAME,\n",
       "        EXEC_MIME_TYPE\n",
       "      );\n",
       "      this.keyboard_manager.register_events(toinsert);\n",
       "      // Render to node\n",
       "      var props = {data: data, metadata: metadata[EXEC_MIME_TYPE]};\n",
       "      render(props, toinsert[toinsert.length - 1]);\n",
       "      element.append(toinsert);\n",
       "      return toinsert\n",
       "    }\n",
       "\n",
       "    /* Handle when an output is cleared or removed */\n",
       "    events.on('clear_output.CodeCell', handleClearOutput);\n",
       "    events.on('delete.Cell', handleClearOutput);\n",
       "\n",
       "    /* Handle when a new output is added */\n",
       "    events.on('output_added.OutputArea', handleAddOutput);\n",
       "\n",
       "    /**\n",
       "     * Register the mime type and append_mime function with output_area\n",
       "     */\n",
       "    OutputArea.prototype.register_mime_type(EXEC_MIME_TYPE, append_mime, {\n",
       "      /* Is output safe? */\n",
       "      safe: true,\n",
       "      /* Index of renderer in `output_area.display_order` */\n",
       "      index: 0\n",
       "    });\n",
       "  }\n",
       "\n",
       "  // register the mime type if in Jupyter Notebook environment and previously unregistered\n",
       "  if (root.Jupyter !== undefined) {\n",
       "    var events = require('base/js/events');\n",
       "    var OutputArea = require('notebook/js/outputarea').OutputArea;\n",
       "\n",
       "    if (OutputArea.prototype.mime_types().indexOf(EXEC_MIME_TYPE) == -1) {\n",
       "      register_renderer(events, OutputArea);\n",
       "    }\n",
       "  }\n",
       "\n",
       "  \n",
       "  if (typeof (root._bokeh_timeout) === \"undefined\" || force === true) {\n",
       "    root._bokeh_timeout = Date.now() + 5000;\n",
       "    root._bokeh_failed_load = false;\n",
       "  }\n",
       "\n",
       "  var NB_LOAD_WARNING = {'data': {'text/html':\n",
       "     \"<div style='background-color: #fdd'>\\n\"+\n",
       "     \"<p>\\n\"+\n",
       "     \"BokehJS does not appear to have successfully loaded. If loading BokehJS from CDN, this \\n\"+\n",
       "     \"may be due to a slow or bad network connection. Possible fixes:\\n\"+\n",
       "     \"</p>\\n\"+\n",
       "     \"<ul>\\n\"+\n",
       "     \"<li>re-rerun `output_notebook()` to attempt to load from CDN again, or</li>\\n\"+\n",
       "     \"<li>use INLINE resources instead, as so:</li>\\n\"+\n",
       "     \"</ul>\\n\"+\n",
       "     \"<code>\\n\"+\n",
       "     \"from bokeh.resources import INLINE\\n\"+\n",
       "     \"output_notebook(resources=INLINE)\\n\"+\n",
       "     \"</code>\\n\"+\n",
       "     \"</div>\"}};\n",
       "\n",
       "  function display_loaded() {\n",
       "    var el = document.getElementById(\"4d022ab2-ea6e-4bd0-8fa9-09f7c909bd64\");\n",
       "    if (el != null) {\n",
       "      el.textContent = \"BokehJS is loading...\";\n",
       "    }\n",
       "    if (root.Bokeh !== undefined) {\n",
       "      if (el != null) {\n",
       "        el.textContent = \"BokehJS \" + root.Bokeh.version + \" successfully loaded.\";\n",
       "      }\n",
       "    } else if (Date.now() < root._bokeh_timeout) {\n",
       "      setTimeout(display_loaded, 100)\n",
       "    }\n",
       "  }\n",
       "\n",
       "\n",
       "  function run_callbacks() {\n",
       "    try {\n",
       "      root._bokeh_onload_callbacks.forEach(function(callback) { callback() });\n",
       "    }\n",
       "    finally {\n",
       "      delete root._bokeh_onload_callbacks\n",
       "    }\n",
       "    console.info(\"Bokeh: all callbacks have finished\");\n",
       "  }\n",
       "\n",
       "  function load_libs(js_urls, callback) {\n",
       "    root._bokeh_onload_callbacks.push(callback);\n",
       "    if (root._bokeh_is_loading > 0) {\n",
       "      console.log(\"Bokeh: BokehJS is being loaded, scheduling callback at\", now());\n",
       "      return null;\n",
       "    }\n",
       "    if (js_urls == null || js_urls.length === 0) {\n",
       "      run_callbacks();\n",
       "      return null;\n",
       "    }\n",
       "    console.log(\"Bokeh: BokehJS not loaded, scheduling load and callback at\", now());\n",
       "    root._bokeh_is_loading = js_urls.length;\n",
       "    for (var i = 0; i < js_urls.length; i++) {\n",
       "      var url = js_urls[i];\n",
       "      var s = document.createElement('script');\n",
       "      s.src = url;\n",
       "      s.async = false;\n",
       "      s.onreadystatechange = s.onload = function() {\n",
       "        root._bokeh_is_loading--;\n",
       "        if (root._bokeh_is_loading === 0) {\n",
       "          console.log(\"Bokeh: all BokehJS libraries loaded\");\n",
       "          run_callbacks()\n",
       "        }\n",
       "      };\n",
       "      s.onerror = function() {\n",
       "        console.warn(\"failed to load library \" + url);\n",
       "      };\n",
       "      console.log(\"Bokeh: injecting script tag for BokehJS library: \", url);\n",
       "      document.getElementsByTagName(\"head\")[0].appendChild(s);\n",
       "    }\n",
       "  };var element = document.getElementById(\"4d022ab2-ea6e-4bd0-8fa9-09f7c909bd64\");\n",
       "  if (element == null) {\n",
       "    console.log(\"Bokeh: ERROR: autoload.js configured with elementid '4d022ab2-ea6e-4bd0-8fa9-09f7c909bd64' but no matching script tag was found. \")\n",
       "    return false;\n",
       "  }\n",
       "\n",
       "  var js_urls = [\"https://cdn.pydata.org/bokeh/release/bokeh-0.13.0.min.js\", \"https://cdn.pydata.org/bokeh/release/bokeh-widgets-0.13.0.min.js\", \"https://cdn.pydata.org/bokeh/release/bokeh-tables-0.13.0.min.js\", \"https://cdn.pydata.org/bokeh/release/bokeh-gl-0.13.0.min.js\"];\n",
       "\n",
       "  var inline_js = [\n",
       "    function(Bokeh) {\n",
       "      Bokeh.set_log_level(\"info\");\n",
       "    },\n",
       "    \n",
       "    function(Bokeh) {\n",
       "      \n",
       "    },\n",
       "    function(Bokeh) {\n",
       "      console.log(\"Bokeh: injecting CSS: https://cdn.pydata.org/bokeh/release/bokeh-0.13.0.min.css\");\n",
       "      Bokeh.embed.inject_css(\"https://cdn.pydata.org/bokeh/release/bokeh-0.13.0.min.css\");\n",
       "      console.log(\"Bokeh: injecting CSS: https://cdn.pydata.org/bokeh/release/bokeh-widgets-0.13.0.min.css\");\n",
       "      Bokeh.embed.inject_css(\"https://cdn.pydata.org/bokeh/release/bokeh-widgets-0.13.0.min.css\");\n",
       "      console.log(\"Bokeh: injecting CSS: https://cdn.pydata.org/bokeh/release/bokeh-tables-0.13.0.min.css\");\n",
       "      Bokeh.embed.inject_css(\"https://cdn.pydata.org/bokeh/release/bokeh-tables-0.13.0.min.css\");\n",
       "    }\n",
       "  ];\n",
       "\n",
       "  function run_inline_js() {\n",
       "    \n",
       "    if ((root.Bokeh !== undefined) || (force === true)) {\n",
       "      for (var i = 0; i < inline_js.length; i++) {\n",
       "        inline_js[i].call(root, root.Bokeh);\n",
       "      }if (force === true) {\n",
       "        display_loaded();\n",
       "      }} else if (Date.now() < root._bokeh_timeout) {\n",
       "      setTimeout(run_inline_js, 100);\n",
       "    } else if (!root._bokeh_failed_load) {\n",
       "      console.log(\"Bokeh: BokehJS failed to load within specified timeout.\");\n",
       "      root._bokeh_failed_load = true;\n",
       "    } else if (force !== true) {\n",
       "      var cell = $(document.getElementById(\"4d022ab2-ea6e-4bd0-8fa9-09f7c909bd64\")).parents('.cell').data().cell;\n",
       "      cell.output_area.append_execute_result(NB_LOAD_WARNING)\n",
       "    }\n",
       "\n",
       "  }\n",
       "\n",
       "  if (root._bokeh_is_loading === 0) {\n",
       "    console.log(\"Bokeh: BokehJS loaded, going straight to plotting\");\n",
       "    run_inline_js();\n",
       "  } else {\n",
       "    load_libs(js_urls, function() {\n",
       "      console.log(\"Bokeh: BokehJS plotting callback run at\", now());\n",
       "      run_inline_js();\n",
       "    });\n",
       "  }\n",
       "}(window));"
      ],
      "application/vnd.bokehjs_load.v0+json": "\n(function(root) {\n  function now() {\n    return new Date();\n  }\n\n  var force = true;\n\n  if (typeof (root._bokeh_onload_callbacks) === \"undefined\" || force === true) {\n    root._bokeh_onload_callbacks = [];\n    root._bokeh_is_loading = undefined;\n  }\n\n  \n\n  \n  if (typeof (root._bokeh_timeout) === \"undefined\" || force === true) {\n    root._bokeh_timeout = Date.now() + 5000;\n    root._bokeh_failed_load = false;\n  }\n\n  var NB_LOAD_WARNING = {'data': {'text/html':\n     \"<div style='background-color: #fdd'>\\n\"+\n     \"<p>\\n\"+\n     \"BokehJS does not appear to have successfully loaded. If loading BokehJS from CDN, this \\n\"+\n     \"may be due to a slow or bad network connection. Possible fixes:\\n\"+\n     \"</p>\\n\"+\n     \"<ul>\\n\"+\n     \"<li>re-rerun `output_notebook()` to attempt to load from CDN again, or</li>\\n\"+\n     \"<li>use INLINE resources instead, as so:</li>\\n\"+\n     \"</ul>\\n\"+\n     \"<code>\\n\"+\n     \"from bokeh.resources import INLINE\\n\"+\n     \"output_notebook(resources=INLINE)\\n\"+\n     \"</code>\\n\"+\n     \"</div>\"}};\n\n  function display_loaded() {\n    var el = document.getElementById(\"4d022ab2-ea6e-4bd0-8fa9-09f7c909bd64\");\n    if (el != null) {\n      el.textContent = \"BokehJS is loading...\";\n    }\n    if (root.Bokeh !== undefined) {\n      if (el != null) {\n        el.textContent = \"BokehJS \" + root.Bokeh.version + \" successfully loaded.\";\n      }\n    } else if (Date.now() < root._bokeh_timeout) {\n      setTimeout(display_loaded, 100)\n    }\n  }\n\n\n  function run_callbacks() {\n    try {\n      root._bokeh_onload_callbacks.forEach(function(callback) { callback() });\n    }\n    finally {\n      delete root._bokeh_onload_callbacks\n    }\n    console.info(\"Bokeh: all callbacks have finished\");\n  }\n\n  function load_libs(js_urls, callback) {\n    root._bokeh_onload_callbacks.push(callback);\n    if (root._bokeh_is_loading > 0) {\n      console.log(\"Bokeh: BokehJS is being loaded, scheduling callback at\", now());\n      return null;\n    }\n    if (js_urls == null || js_urls.length === 0) {\n      run_callbacks();\n      return null;\n    }\n    console.log(\"Bokeh: BokehJS not loaded, scheduling load and callback at\", now());\n    root._bokeh_is_loading = js_urls.length;\n    for (var i = 0; i < js_urls.length; i++) {\n      var url = js_urls[i];\n      var s = document.createElement('script');\n      s.src = url;\n      s.async = false;\n      s.onreadystatechange = s.onload = function() {\n        root._bokeh_is_loading--;\n        if (root._bokeh_is_loading === 0) {\n          console.log(\"Bokeh: all BokehJS libraries loaded\");\n          run_callbacks()\n        }\n      };\n      s.onerror = function() {\n        console.warn(\"failed to load library \" + url);\n      };\n      console.log(\"Bokeh: injecting script tag for BokehJS library: \", url);\n      document.getElementsByTagName(\"head\")[0].appendChild(s);\n    }\n  };var element = document.getElementById(\"4d022ab2-ea6e-4bd0-8fa9-09f7c909bd64\");\n  if (element == null) {\n    console.log(\"Bokeh: ERROR: autoload.js configured with elementid '4d022ab2-ea6e-4bd0-8fa9-09f7c909bd64' but no matching script tag was found. \")\n    return false;\n  }\n\n  var js_urls = [\"https://cdn.pydata.org/bokeh/release/bokeh-0.13.0.min.js\", \"https://cdn.pydata.org/bokeh/release/bokeh-widgets-0.13.0.min.js\", \"https://cdn.pydata.org/bokeh/release/bokeh-tables-0.13.0.min.js\", \"https://cdn.pydata.org/bokeh/release/bokeh-gl-0.13.0.min.js\"];\n\n  var inline_js = [\n    function(Bokeh) {\n      Bokeh.set_log_level(\"info\");\n    },\n    \n    function(Bokeh) {\n      \n    },\n    function(Bokeh) {\n      console.log(\"Bokeh: injecting CSS: https://cdn.pydata.org/bokeh/release/bokeh-0.13.0.min.css\");\n      Bokeh.embed.inject_css(\"https://cdn.pydata.org/bokeh/release/bokeh-0.13.0.min.css\");\n      console.log(\"Bokeh: injecting CSS: https://cdn.pydata.org/bokeh/release/bokeh-widgets-0.13.0.min.css\");\n      Bokeh.embed.inject_css(\"https://cdn.pydata.org/bokeh/release/bokeh-widgets-0.13.0.min.css\");\n      console.log(\"Bokeh: injecting CSS: https://cdn.pydata.org/bokeh/release/bokeh-tables-0.13.0.min.css\");\n      Bokeh.embed.inject_css(\"https://cdn.pydata.org/bokeh/release/bokeh-tables-0.13.0.min.css\");\n    }\n  ];\n\n  function run_inline_js() {\n    \n    if ((root.Bokeh !== undefined) || (force === true)) {\n      for (var i = 0; i < inline_js.length; i++) {\n        inline_js[i].call(root, root.Bokeh);\n      }if (force === true) {\n        display_loaded();\n      }} else if (Date.now() < root._bokeh_timeout) {\n      setTimeout(run_inline_js, 100);\n    } else if (!root._bokeh_failed_load) {\n      console.log(\"Bokeh: BokehJS failed to load within specified timeout.\");\n      root._bokeh_failed_load = true;\n    } else if (force !== true) {\n      var cell = $(document.getElementById(\"4d022ab2-ea6e-4bd0-8fa9-09f7c909bd64\")).parents('.cell').data().cell;\n      cell.output_area.append_execute_result(NB_LOAD_WARNING)\n    }\n\n  }\n\n  if (root._bokeh_is_loading === 0) {\n    console.log(\"Bokeh: BokehJS loaded, going straight to plotting\");\n    run_inline_js();\n  } else {\n    load_libs(js_urls, function() {\n      console.log(\"Bokeh: BokehJS plotting callback run at\", now());\n      run_inline_js();\n    });\n  }\n}(window));"
     },
     "metadata": {},
     "output_type": "display_data"
    }
   ],
   "source": [
    "#from bokeh.plotting import figure, output_notebook, show\n",
    "#from bokeh.models import LinearAxis, Range1d\n",
    "\n",
    "#output_notebook()"
   ]
  },
  {
   "cell_type": "code",
   "execution_count": null,
   "metadata": {},
   "outputs": [],
   "source": []
  }
 ],
 "metadata": {
  "kernelspec": {
   "display_name": "Python 3",
   "language": "python",
   "name": "python3"
  },
  "language_info": {
   "codemirror_mode": {
    "name": "ipython",
    "version": 3
   },
   "file_extension": ".py",
   "mimetype": "text/x-python",
   "name": "python",
   "nbconvert_exporter": "python",
   "pygments_lexer": "ipython3",
   "version": "3.6.4"
  }
 },
 "nbformat": 4,
 "nbformat_minor": 2
}
